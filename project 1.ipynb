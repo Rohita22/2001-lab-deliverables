{
 "cells": [
  {
   "cell_type": "markdown",
   "id": "6ead6cb2-285f-43c8-85c9-aa411b51a930",
   "metadata": {},
   "source": [
    "```text\n",
    "Algorithm: hybrid_sort(A, S)\n",
    "\n",
    "Input:\n",
    "    A → array of elements\n",
    "    S → threshold size for switching to insertion sort\n",
    "\n",
    "Procedure:\n",
    "    if length(A) <= S then\n",
    "        insertion_sort(A)\n",
    "        return A\n",
    "    else\n",
    "        if length(A) <= 1 then\n",
    "            return A\n",
    "        mid = length(A) // 2\n",
    "        B1 = hybrid_sort(A[0:mid], S)\n",
    "        B2 = hybrid_sort(A[mid:length(A)], S)\n",
    "        return merge(B1, B2)\n"
   ]
  },
  {
   "cell_type": "code",
   "execution_count": 1,
   "id": "c8600558-6d4f-47ed-83f0-4cfc6fab6ca4",
   "metadata": {},
   "outputs": [],
   "source": [
    "import random\n",
    "import time"
   ]
  },
  {
   "cell_type": "code",
   "execution_count": 2,
   "id": "41766de5-f3e2-410e-8ae0-479f937caa27",
   "metadata": {},
   "outputs": [],
   "source": [
    "class KeyComparisons:\n",
    "    def __init__(self):\n",
    "        self.key_comparisons = 0\n",
    "\n",
    "    def isALargerThanB(self, a, b) -> bool:\n",
    "        self.key_comparisons += 1\n",
    "        return a > b\n",
    "\n",
    "    def isALessThanB(self, a, b) -> bool:\n",
    "        self.key_comparisons += 1\n",
    "        return a < b\n",
    "\n",
    "    def isALessThanOrEqualB(self, a, b) -> bool:\n",
    "        self.key_comparisons += 1\n",
    "        return a <= b\n",
    "\n",
    "    def isAEqualB(self, a, b) -> bool:\n",
    "        self.key_comparisons += 1\n",
    "        return a == b\n",
    "\n",
    "    def resetKeyComparisons(self):\n",
    "        self.key_comparisons = 0\n",
    "        \n",
    "    def returnKeyComparisons(self):\n",
    "        return self.key_comparisons"
   ]
  },
  {
   "cell_type": "code",
   "execution_count": 3,
   "id": "af3818fb-87f6-4cb6-ad41-30ce9389972f",
   "metadata": {},
   "outputs": [],
   "source": [
    "#swap elements i, j in the array A\n",
    "def swap(A, i, j):\n",
    "    A[i], A[j] = A[j], A[i]"
   ]
  },
  {
   "cell_type": "code",
   "execution_count": 4,
   "id": "f5ca1a6c-07a0-434d-aa9b-6e1c0f9f0ecf",
   "metadata": {},
   "outputs": [],
   "source": [
    "#insertion sort\n",
    "def insertion_sort(A, comparisons_obj):\n",
    "    for i in range(1, len(A)): #element at index 0-considered sorted so we start from element at index 1\n",
    "        for j in range(i, 0, -1): \n",
    "            if comparisons_obj.isALessThanB(A[j], A[j - 1]):  #self.key_comparisions += 1 then return true if a<b otherwise false, if true then swaps.\n",
    "                swap(A, j, j - 1)  #swap if current < left neighbour\n",
    "            else:  \n",
    "                break\n",
    "    return A"
   ]
  },
  {
   "cell_type": "code",
   "execution_count": 5,
   "id": "231c3485-ff47-498f-9567-6e611b3533f9",
   "metadata": {},
   "outputs": [],
   "source": [
    "def merge(list1, list2, comparisons_obj):\n",
    "    if list1 == [] or list2 == []:\n",
    "        return list1 + list2\n",
    "    \n",
    "    sorted_list = []\n",
    "    l1, l2 = list1[:], list2[:] #we shrink l1 and l2, DO NOT MODIFY ORIGINAL LISTS\n",
    "    \n",
    "    while l1 != [] and l2 != []:\n",
    "        head1, head2 = l1[0], l2[0]\n",
    "        if comparisons_obj.isALessThanOrEqualB(head1, head2):\n",
    "            sorted_list.append(head1)\n",
    "            l1 = l1[1:] #removing head1 from l1\n",
    "        else:\n",
    "            sorted_list.append(head2)\n",
    "            l2 = l2[1:]\n",
    "    \n",
    "    return sorted_list + l1 + l2 #after one list runs out"
   ]
  },
  {
   "cell_type": "code",
   "execution_count": 6,
   "id": "e4b7d8a9-c861-471a-8fd0-ffdb7c830c9e",
   "metadata": {},
   "outputs": [],
   "source": [
    "def merge_sort(A, comparisons_obj):\n",
    "    if len(A) <= 1:\n",
    "        return A\n",
    "    mid = len(A) // 2\n",
    "    B1 = merge_sort(A[:mid], comparisons_obj)\n",
    "    B2 = merge_sort(A[mid:], comparisons_obj)\n",
    "    return merge(B1, B2, comparisons_obj)"
   ]
  },
  {
   "cell_type": "code",
   "execution_count": 7,
   "id": "45613bb9-c843-4c90-8077-9b6fb3209bd0",
   "metadata": {},
   "outputs": [],
   "source": [
    "def hybrid_sort(A, S, comparisons_obj):\n",
    "    if len(A) <= S: #threshold check to determine whether to use insertion sort or merge sort\n",
    "        return insertion_sort(A[:], comparisons_obj) \n",
    "    else:\n",
    "        mid = len(A) // 2\n",
    "        B1 = hybrid_sort(A[:mid], S, comparisons_obj)\n",
    "        B2 = hybrid_sort(A[mid:], S, comparisons_obj)\n",
    "        return merge(B1, B2, comparisons_obj)"
   ]
  },
  {
   "cell_type": "code",
   "execution_count": 8,
   "id": "502b2692-3293-46ad-ae0b-c18423173271",
   "metadata": {},
   "outputs": [
    {
     "name": "stdout",
     "output_type": "stream",
     "text": [
      "[1, 5, 5, 6, 8, 8, 32, 32, 34, 44, 45, 45, 45, 66, 74, 76, 76, 87, 87, 90, 95, 96, 97]\n",
      "Total comparisons: 75\n"
     ]
    }
   ],
   "source": [
    "array1 = [44,97,96,45,66,87,45,32,8,5,34,76,90,45,32,1,6,8,5,76,74,87,95]\n",
    "comparisons_obj = KeyComparisons()   \n",
    "\n",
    "print(hybrid_sort(array1,3, comparisons_obj))\n",
    "print(\"Total comparisons:\", comparisons_obj.key_comparisons)"
   ]
  },
  {
   "cell_type": "code",
   "execution_count": 9,
   "id": "b5387806-8abc-4338-83dc-047ad04a5a21",
   "metadata": {},
   "outputs": [
    {
     "name": "stdout",
     "output_type": "stream",
     "text": [
      "[1, 5, 5, 6, 8, 8, 32, 32, 34, 44, 45, 45, 45, 66, 74, 76, 76, 87, 87, 90, 95, 96, 97]\n",
      "Total comparisons: 77\n"
     ]
    }
   ],
   "source": [
    "array2 = [44,97,96,45,66,87,45,32,8,5,34,76,90,45,32,1,6,8,5,76,74,87,95]\n",
    "comparisons_obj = KeyComparisons()   \n",
    "\n",
    "print(merge_sort(array2, comparisons_obj))\n",
    "print(\"Total comparisons:\", comparisons_obj.key_comparisons)"
   ]
  },
  {
   "cell_type": "code",
   "execution_count": 10,
   "id": "fc6befe6-d527-459b-8f33-cb92b1b94923",
   "metadata": {},
   "outputs": [],
   "source": [
    "#generates the array sizes from 1000 to 10 million systematically \n",
    "def generate_input_sizes():\n",
    "    input_data_sizes = []\n",
    "    \n",
    "    for i in range(10): #each loop generates 4 different size scales\n",
    "        input_data_sizes.append((i+1) * 1000)      #1000, 2000, ... 10000\n",
    "        input_data_sizes.append((i+1) * 10000)     #10000, 20000, ... 100000\n",
    "        input_data_sizes.append((i+1) * 100000)    #100000, .... 1M\n",
    "        input_data_sizes.append((i+1) * 1000000)   #1M, 2M, ..., 10M\n",
    "    \n",
    "    # Removes duplicates(such as the 10000 which appears twice) and sorts the input data sizes\n",
    "    input_data_sizes = sorted(set(input_data_sizes))\n",
    "    return input_data_sizes"
   ]
  },
  {
   "cell_type": "code",
   "execution_count": 11,
   "id": "f02ccca1-3bb2-400d-b059-2a2dfa3258a5",
   "metadata": {},
   "outputs": [
    {
     "name": "stdout",
     "output_type": "stream",
     "text": [
      "[1000, 2000, 3000, 4000, 5000, 6000, 7000, 8000, 9000, 10000, 20000, 30000, 40000, 50000, 60000, 70000, 80000, 90000, 100000, 200000, 300000, 400000, 500000, 600000, 700000, 800000, 900000, 1000000, 2000000, 3000000, 4000000, 5000000, 6000000, 7000000, 8000000, 9000000, 10000000]\n"
     ]
    }
   ],
   "source": [
    "#testing\n",
    "print(generate_input_sizes())"
   ]
  },
  {
   "cell_type": "code",
   "execution_count": 12,
   "id": "ba1efcf8-3462-4e4a-9359-20da43cff3f7",
   "metadata": {},
   "outputs": [],
   "source": [
    "#will generate random arrays with the values in the range [1, size]\n",
    "def generate_random_array(size):\n",
    "#generates a random int between 1 and size and the for loop runs size times. each iteratiion, generates a random number in the given range and collates all those into a list\n",
    "    return [random.randint(1, size) for _ in range(size)]"
   ]
  },
  {
   "cell_type": "code",
   "execution_count": 13,
   "id": "3695f3f0-b3b4-49ae-8e15-67e922d34b22",
   "metadata": {},
   "outputs": [
    {
     "name": "stdout",
     "output_type": "stream",
     "text": [
      "[9, 7, 5, 1, 6, 1, 3, 7, 11, 5, 2, 2, 5, 9, 2]\n"
     ]
    }
   ],
   "source": [
    "#testing \n",
    "print(generate_random_array(15))"
   ]
  },
  {
   "cell_type": "code",
   "execution_count": 14,
   "id": "37bdbbd8-6410-472e-b115-d0f09857f4ec",
   "metadata": {},
   "outputs": [],
   "source": [
    "def generate_all_datasets(seed=22): \n",
    "    random.seed(seed) #using the same seed ensures that everytime the same random arrays are produced \n",
    "    \n",
    "    input_data_sizes = generate_input_sizes() #sorted list of sizes from 1K to 10M\n",
    "    input_data = []\n",
    "    \n",
    "    for size in (input_data_sizes):\n",
    "        array = generate_random_array(size)\n",
    "        input_data.append(array)\n",
    "        \n",
    "    return input_data, input_data_sizes"
   ]
  },
  {
   "cell_type": "code",
   "execution_count": 15,
   "id": "a139619e-b786-465b-ac8f-774bde60e66b",
   "metadata": {},
   "outputs": [],
   "source": [
    "#to verify that the datasets generated are correctly generated\n",
    "def verify_datasets(input_data, input_data_sizes):\n",
    "    \n",
    "    for size, array in (zip(input_data_sizes, input_data)): #used zip so as to combine 2 lists into pairs\n",
    "        min_val = min(array)\n",
    "        max_val = max(array)\n",
    "        \n",
    "        print(f\"Array Size: {size}, Min: {min_val}, Max: {max_val}\")"
   ]
  },
  {
   "cell_type": "code",
   "execution_count": 16,
   "id": "0a926c39-b96d-44fc-be74-e4209d096e6b",
   "metadata": {},
   "outputs": [],
   "source": [
    "def main():\n",
    "    input_data, input_data_sizes = generate_all_datasets()\n",
    "    verify_datasets(input_data, input_data_sizes)\n",
    "    return input_data, input_data_sizes"
   ]
  },
  {
   "cell_type": "code",
   "execution_count": 18,
   "id": "27cc4b8f-2a56-4208-afc9-c4b438b5385c",
   "metadata": {},
   "outputs": [
    {
     "name": "stdout",
     "output_type": "stream",
     "text": [
      "Array Size: 1000, Min: 1, Max: 1000\n",
      "Array Size: 2000, Min: 1, Max: 2000\n",
      "Array Size: 3000, Min: 3, Max: 3000\n",
      "Array Size: 4000, Min: 1, Max: 4000\n",
      "Array Size: 5000, Min: 1, Max: 5000\n",
      "Array Size: 6000, Min: 2, Max: 6000\n",
      "Array Size: 7000, Min: 1, Max: 6998\n",
      "Array Size: 8000, Min: 1, Max: 8000\n",
      "Array Size: 9000, Min: 1, Max: 9000\n",
      "Array Size: 10000, Min: 1, Max: 9999\n",
      "Array Size: 20000, Min: 1, Max: 20000\n",
      "Array Size: 30000, Min: 2, Max: 30000\n",
      "Array Size: 40000, Min: 1, Max: 40000\n",
      "Array Size: 50000, Min: 1, Max: 50000\n",
      "Array Size: 60000, Min: 2, Max: 59999\n",
      "Array Size: 70000, Min: 1, Max: 70000\n",
      "Array Size: 80000, Min: 3, Max: 80000\n",
      "Array Size: 90000, Min: 1, Max: 90000\n",
      "Array Size: 100000, Min: 1, Max: 99997\n",
      "Array Size: 200000, Min: 1, Max: 200000\n",
      "Array Size: 300000, Min: 1, Max: 300000\n",
      "Array Size: 400000, Min: 1, Max: 400000\n",
      "Array Size: 500000, Min: 2, Max: 500000\n",
      "Array Size: 600000, Min: 1, Max: 600000\n",
      "Array Size: 700000, Min: 1, Max: 700000\n",
      "Array Size: 800000, Min: 1, Max: 799999\n",
      "Array Size: 900000, Min: 1, Max: 900000\n",
      "Array Size: 1000000, Min: 1, Max: 999999\n",
      "Array Size: 2000000, Min: 1, Max: 2000000\n",
      "Array Size: 3000000, Min: 1, Max: 3000000\n",
      "Array Size: 4000000, Min: 1, Max: 4000000\n",
      "Array Size: 5000000, Min: 2, Max: 5000000\n",
      "Array Size: 6000000, Min: 1, Max: 6000000\n",
      "Array Size: 7000000, Min: 3, Max: 6999998\n",
      "Array Size: 8000000, Min: 1, Max: 8000000\n",
      "Array Size: 9000000, Min: 1, Max: 8999998\n",
      "Array Size: 10000000, Min: 1, Max: 10000000\n"
     ]
    }
   ],
   "source": [
    "if __name__ == \"__main__\":\n",
    "    input_data, input_data_sizes = main()"
   ]
  },
  {
   "cell_type": "code",
   "execution_count": 27,
   "id": "e357a8e7-a87e-4599-8194-81f74cd40298",
   "metadata": {},
   "outputs": [
    {
     "name": "stdout",
     "output_type": "stream",
     "text": [
      "[982, 930, 144, 249, 25, 628, 458, 189, 719, 124, 758, 668, 900, 354, 812, 911, 82, 238, 276, 983, 51, 328, 1000, 616, 184, 955, 566, 702, 751, 947, 441, 726, 905, 50, 591, 903, 22, 604, 271, 319, 432, 195, 185, 871, 115, 597, 544, 961, 747, 793, 985, 974, 580, 63, 716, 335, 628, 343, 265, 189, 980, 403, 320, 923, 800, 892, 978, 980, 667, 528, 146, 287, 846, 278, 684, 709, 190, 443, 51, 351, 545, 923, 34, 430, 948, 258, 519, 292, 530, 904, 420, 407, 677, 947, 939, 190, 315, 577, 383, 407, 597, 26, 305, 590, 610, 575, 557, 540, 444, 776, 690, 921, 541, 438, 91, 93, 455, 365, 101, 443, 800, 413, 60, 952, 862, 976, 202, 525, 245, 411, 7, 99, 470, 917, 199, 176, 31, 560, 386, 358, 184, 337, 932, 366, 645, 196, 455, 38, 65, 549, 138, 816, 798, 663, 757, 207, 672, 711, 104, 54, 200, 421, 125, 848, 152, 944, 602, 472, 45, 867, 123, 511, 725, 537, 139, 599, 292, 701, 762, 879, 485, 488, 745, 68, 659, 732, 363, 978, 803, 114, 840, 828, 624, 266, 966, 123, 19, 192, 513, 359, 650, 66, 349, 100, 176, 645, 709, 612, 445, 717, 276, 182, 43, 79, 991, 196, 361, 696, 121, 222, 548, 262, 499, 887, 70, 185, 24, 283, 771, 100, 595, 482, 634, 213, 413, 353, 121, 753, 930, 948, 538, 855, 185, 40, 244, 387, 862, 870, 640, 34, 211, 209, 772, 502, 651, 392, 51, 769, 706, 736, 430, 476, 260, 255, 911, 237, 116, 273, 945, 67, 954, 682, 580, 162, 183, 911, 985, 662, 327, 59, 31, 511, 163, 619, 287, 44, 868, 499, 718, 31, 284, 785, 787, 5, 221, 648, 832, 464, 867, 678, 239, 454, 548, 441, 144, 364, 351, 266, 885, 995, 838, 706, 10, 720, 389, 623, 656, 110, 180, 867, 822, 978, 915, 636, 565, 663, 371, 286, 869, 865, 526, 270, 193, 266, 285, 539, 163, 357, 859, 814, 523, 508, 714, 512, 837, 140, 998, 552, 196, 512, 416, 352, 896, 897, 780, 80, 397, 682, 672, 540, 200, 724, 166, 88, 52, 944, 389, 347, 242, 56, 531, 538, 993, 871, 157, 202, 572, 371, 886, 976, 613, 1, 540, 329, 787, 785, 23, 117, 972, 519, 703, 53, 827, 648, 846, 67, 101, 585, 69, 944, 183, 264, 517, 311, 961, 321, 932, 935, 422, 589, 638, 539, 758, 563, 341, 330, 994, 693, 965, 812, 745, 54, 924, 240, 821, 525, 668, 976, 330, 696, 289, 4, 245, 249, 59, 121, 949, 323, 306, 911, 25, 960, 324, 116, 106, 929, 456, 845, 341, 941, 180, 164, 489, 292, 425, 404, 363, 144, 833, 414, 315, 241, 555, 233, 900, 637, 983, 934, 384, 926, 42, 476, 974, 287, 527, 556, 223, 96, 132, 843, 245, 770, 318, 570, 143, 456, 51, 264, 250, 840, 157, 117, 573, 493, 335, 821, 171, 517, 386, 71, 691, 348, 212, 390, 136, 937, 684, 597, 917, 470, 445, 646, 552, 50, 405, 703, 470, 828, 873, 687, 451, 370, 214, 293, 705, 11, 959, 84, 119, 159, 864, 465, 772, 797, 82, 223, 577, 484, 811, 652, 274, 645, 129, 22, 781, 943, 166, 600, 807, 311, 551, 246, 601, 706, 204, 956, 812, 346, 757, 408, 460, 571, 734, 180, 795, 416, 684, 940, 463, 570, 819, 843, 436, 269, 797, 890, 214, 802, 251, 231, 659, 543, 277, 699, 299, 587, 48, 617, 950, 246, 626, 568, 248, 364, 472, 818, 827, 382, 127, 595, 767, 234, 357, 426, 384, 132, 989, 755, 142, 48, 564, 620, 517, 316, 667, 796, 112, 130, 827, 697, 522, 732, 940, 239, 406, 134, 105, 382, 518, 665, 760, 268, 13, 10, 170, 453, 829, 344, 162, 496, 964, 168, 521, 613, 165, 724, 103, 268, 380, 124, 488, 175, 180, 732, 87, 712, 514, 685, 261, 703, 456, 551, 462, 334, 715, 804, 592, 330, 234, 868, 185, 762, 880, 653, 52, 629, 127, 372, 72, 11, 847, 543, 554, 988, 946, 423, 642, 978, 344, 976, 441, 786, 750, 97, 237, 877, 823, 994, 418, 271, 44, 584, 352, 629, 574, 280, 151, 743, 928, 336, 949, 409, 524, 99, 927, 31, 707, 359, 551, 75, 162, 454, 976, 835, 942, 13, 463, 675, 395, 435, 76, 370, 635, 29, 876, 493, 399, 218, 296, 113, 628, 576, 813, 926, 174, 957, 290, 658, 113, 43, 476, 837, 208, 324, 414, 853, 187, 466, 243, 170, 66, 20, 117, 198, 267, 432, 776, 662, 814, 500, 647, 287, 315, 623, 680, 367, 751, 277, 377, 318, 84, 572, 481, 998, 228, 146, 194, 433, 400, 156, 77, 831, 920, 793, 288, 773, 920, 372, 756, 940, 12, 832, 921, 940, 829, 471, 539, 628, 906, 524, 490, 195, 26, 217, 154, 752, 319, 46, 879, 30, 850, 505, 121, 561, 359, 228, 115, 654, 234, 979, 361, 989, 425, 175, 154, 266, 674, 934, 248, 801, 912, 631, 493, 703, 440, 118, 785, 888, 354, 140, 263, 138, 126, 792, 302, 994, 241, 936, 753, 699, 364, 357, 724, 283, 631, 72, 685, 313, 693, 403, 569, 932, 229, 205, 651, 217, 137, 160, 328, 260, 136, 984, 72, 955, 691, 234, 940, 52, 598, 499, 855, 599, 301, 115, 123, 429, 95, 788, 928, 2, 760, 736, 22, 702, 650, 806, 631, 499, 769, 476, 423, 531, 694, 140, 776, 527, 784, 246, 179, 329, 271, 46, 327, 163, 88, 57, 775, 554, 453, 242, 822, 569, 519, 516, 374, 239, 997, 131, 281, 611, 330, 693, 998, 707, 47, 520, 66, 594, 695, 26, 31, 314, 968, 820, 534, 387, 396, 107, 364, 431, 528, 855, 514, 101, 376, 115, 971, 511, 623, 894, 366, 400, 218, 254, 616, 787, 142, 97, 303, 58, 613, 744, 870, 841, 882, 394, 334, 835, 273, 855, 373, 741, 125, 984, 280, 347, 785, 905, 376, 277]\n"
     ]
    }
   ],
   "source": [
    "#testing\n",
    "print(input_data[0])"
   ]
  }
 ],
 "metadata": {
  "kernelspec": {
   "display_name": "Python 3 (ipykernel)",
   "language": "python",
   "name": "python3"
  },
  "language_info": {
   "codemirror_mode": {
    "name": "ipython",
    "version": 3
   },
   "file_extension": ".py",
   "mimetype": "text/x-python",
   "name": "python",
   "nbconvert_exporter": "python",
   "pygments_lexer": "ipython3",
   "version": "3.13.7"
  }
 },
 "nbformat": 4,
 "nbformat_minor": 5
}
